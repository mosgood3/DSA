{
 "cells": [
  {
   "cell_type": "markdown",
   "metadata": {},
   "source": [
    "--Data Structure - how data is strucutured inside of RAM (random access memory)\n",
    "\n",
    "--Ram is measured in bytes (8 bits)\n",
    "\n",
    "--a bit is a position that can hold a 0 or a 1\n",
    "\n",
    "--integers are usually represented by 4bytes or 32 bits\n",
    "\n",
    "--characters take 1byte or 8 bits to store in memory\n",
    "\n",
    "--Ram has a value and an address\n",
    "\n",
    "--An array is always contigious\n",
    "\n",
    "--Arrays are stored the same way they appear"
   ]
  }
 ],
 "metadata": {
  "language_info": {
   "name": "python"
  }
 },
 "nbformat": 4,
 "nbformat_minor": 2
}
