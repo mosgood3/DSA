{
 "cells": [
  {
   "cell_type": "markdown",
   "metadata": {},
   "source": [
    "--Think of a stack data structure as a pile of plates or a vertical array\n",
    "\n",
    "--Peaking,poping and pushing to a stack are all constant time operations, O(1)\n",
    "\n",
    "--we use the default dynamic arrays to use a stack\n",
    "\n",
    "--Stacks are a LIFO data structure, Last in first out Stacks can be used to reverse a sequence\n",
    "\n",
    "A stack is a data structure that supports a subset of operations from a dynamic array. With a stack you may only add and delete elements from one end of the array (referred to as the top of the stack).\n",
    "\n",
    "In the physical world, a stack can be conceptualized by thinking of a stack of plates. You may grab a plate from the top or you may add a plate to the top. You cannot remove or add a plate to the middle of the stack. This is the same as the stack data structure.\n",
    "\n",
    "\n",
    "Stacks are a dynamic data structure that operate on a LIFO (Last In First Out) manner. The last element added to the stack is the first element that comes out. The stack supports three operations - push, pop, peek.\n",
    "Push\n",
    "\n",
    "The push operation adds an element to the top of the stack, which in dynamic array terms would be appending an element to the end. This is an efficient O(1)O(1) operation as discussed in the previous lesson.\n",
    "\n",
    "It helps to visualize a stack as an array that is vertical. The pseudocode demonstrates the concept, along with the visual where we add the integers 11 through 44 to the top. The top pointer updates to point at the last item added. The following pseudocode and visual demonstrates this."
   ]
  },
  {
   "cell_type": "code",
   "execution_count": null,
   "metadata": {
    "vscode": {
     "languageId": "plaintext"
    }
   },
   "outputs": [],
   "source": [
    "def push(self, n):\n",
    "    # using the pushback function from dynamic arrays to add to the stack\n",
    "    self.stack.append(n)"
   ]
  },
  {
   "cell_type": "markdown",
   "metadata": {},
   "source": [
    "\n",
    "\n",
    "    In many languages there is no built-in stack data structure, but you can use a dynamic array to simulate a stack. \n",
    "\n",
    "    Since a stack will remove elements in the reverse order that they were inserted in, it can be used to reverse sequences - such as a string, which is just a sequence of characters. \n",
    "\n",
    "Pop\n",
    "\n",
    "The pop operation removes the last element from top of the stack, which in dynamic array terms would be reading and removing the last element. This is also an efficient O(1)O(1) operation as discussed previously.\n",
    "\n",
    "\n",
    "\n",
    "\n",
    "    In most languages, before popping, it is a good measure to check if the stack is empty to avoid errors. \n",
    "\n",
    "Peek\n",
    "\n",
    "The peek operation is the simplest. It simply returns, the top element without removing it. This is also an efficient O(1)O(1) operation."
   ]
  },
  {
   "cell_type": "code",
   "execution_count": null,
   "metadata": {
    "vscode": {
     "languageId": "plaintext"
    }
   },
   "outputs": [],
   "source": [
    "def peek(self):\n",
    "    return self.stack[-1]"
   ]
  },
  {
   "cell_type": "markdown",
   "metadata": {},
   "source": [
    "Valid Parentheses\n",
    "Solved\n",
    "\n",
    "You are given a string s consisting of the following characters: '(', ')', '{', '}', '[' and ']'.\n",
    "\n",
    "The input string s is valid if and only if:\n",
    "\n",
    "    Every open bracket is closed by the same type of close bracket.\n",
    "    Open brackets are closed in the correct order.\n",
    "    Every close bracket has a corresponding open bracket of the same type.\n",
    "\n",
    "Return true if s is a valid string, and false otherwise.\n",
    "\n",
    "Example 1:\n",
    "\n",
    "Input: s = \"[]\"\n",
    "\n",
    "Output: true\n",
    "\n",
    "Example 2:\n",
    "\n",
    "Input: s = \"([{}])\"\n",
    "\n",
    "Output: true\n",
    "\n",
    "Example 3:\n",
    "\n",
    "Input: s = \"[(])\"\n",
    "\n",
    "Output: false\n",
    "\n",
    "Explanation: The brackets are not closed in the correct order.\n",
    "\n",
    "Constraints:\n",
    "\n",
    "    1 <= s.length <= 1000\n"
   ]
  },
  {
   "cell_type": "code",
   "execution_count": null,
   "metadata": {
    "vscode": {
     "languageId": "plaintext"
    }
   },
   "outputs": [],
   "source": [
    "class Solution:\n",
    "    def isValid(self, s: str) -> bool:\n",
    "        stack = []\n",
    "        hash_map = {\n",
    "            \"}\": \"{\",\n",
    "            \"]\": \"[\",\n",
    "            \")\": \"(\"\n",
    "        }\n",
    "\n",
    "        for c in s:\n",
    "            if c in hash_map and stack:\n",
    "                if stack[-1] == hash_map[c]:\n",
    "                    stack.pop()\n",
    "                else:\n",
    "                    return False\n",
    "\n",
    "            else:\n",
    "                stack.append(c)\n",
    "\n",
    "        return True if not stack else False"
   ]
  },
  {
   "cell_type": "markdown",
   "metadata": {},
   "source": [
    "Minimum Stack\n",
    "\n",
    "Design a stack class that supports the push, pop, top, and getMin operations.\n",
    "\n",
    "    MinStack() initializes the stack object.\n",
    "    void push(int val) pushes the element val onto the stack.\n",
    "    void pop() removes the element on the top of the stack.\n",
    "    int top() gets the top element of the stack.\n",
    "    int getMin() retrieves the minimum element in the stack.\n",
    "\n",
    "Each function should run in O(1)O(1) time."
   ]
  },
  {
   "cell_type": "code",
   "execution_count": null,
   "metadata": {
    "vscode": {
     "languageId": "plaintext"
    }
   },
   "outputs": [],
   "source": [
    "class MinStack:\n",
    "    def __init__(self):\n",
    "        self.stack = []\n",
    "        self.minStack = []\n",
    "\n",
    "    def push(self, val: int) -> None:\n",
    "        self.stack.append(val)\n",
    "        val = min(val, self.minStack[-1] if self.minStack else val)\n",
    "        self.minStack.append(val)\n",
    "\n",
    "    def pop(self) -> None:\n",
    "        self.stack.pop()\n",
    "        self.minStack.pop()\n",
    "\n",
    "    def top(self) -> int:\n",
    "        return self.stack[-1]\n",
    "\n",
    "    def getMin(self) -> int:\n",
    "        return self.minStack[-1]"
   ]
  }
 ],
 "metadata": {
  "language_info": {
   "name": "python"
  }
 },
 "nbformat": 4,
 "nbformat_minor": 2
}
