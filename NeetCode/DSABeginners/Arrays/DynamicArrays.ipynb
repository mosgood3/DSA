{
 "cells": [
  {
   "cell_type": "markdown",
   "metadata": {},
   "source": [
    "-- pushing = adding elements to the end of an array, there will always be a pointer at the end of the array telling us what the last element in the array is\n",
    "\n",
    "-- popping refers to removing the last value in the array\n",
    "\n",
    "--after an array reaches its max size and you atempt to append a value this will create a new array that is doubled in size\n",
    "\n",
    "--If you run out of space in the array the append will be a O(n) operation because you have to traverse through the array to add it to a new one. This is called amortized time complexity. As it is pretty infrequent to run out of space, so we always refer to this as a O(1) operations.\n",
    "\n",
    "Dynamic Arrays\n",
    "Dynamic Arrays are a much more common alternative to static arrays. They are useful because they can grow as elements are added. In JavaScript and Python, these are the default arrays.\n",
    "\n",
    "Unlike static arrays, with dynamic arrays we don’t have to specify a size upon initialization.\n",
    "\n",
    "In different languages, dynamic arrays may be assigned a default size - Java being 1010 and C# being 44. Regardless, these are automatically resized at runtime as the arrays grow. \n",
    "\n"
   ]
  },
  {
   "cell_type": "code",
   "execution_count": null,
   "metadata": {
    "vscode": {
     "languageId": "plaintext"
    }
   },
   "outputs": [],
   "source": [
    "# Insert n in the last position of the array\n",
    "def pushback(self, n):\n",
    "    if self.length == self.capacity:\n",
    "        self.resize()\n",
    "        \n",
    "    # insert at next empty position\n",
    "    self.arr[self.length] = n\n",
    "    self.length += 1"
   ]
  },
  {
   "cell_type": "markdown",
   "metadata": {},
   "source": [
    "Since the array is dynamic in size, we can continue to add elements. But it's not magic, this is achieved by copying over the values to a new static array that is double the size of the original. This means that the resulting array will be of size 66 and will have new space allocated for it in memory. The following visual and code demonstrates this resize operation."
   ]
  },
  {
   "cell_type": "code",
   "execution_count": null,
   "metadata": {
    "vscode": {
     "languageId": "plaintext"
    }
   },
   "outputs": [],
   "source": [
    "def resize(self):\n",
    "    # Create new array of double capacity\n",
    "    self.capacity = 2 * self.capacity\n",
    "    newArr = [0] * self.capacity \n",
    "\n",
    "    # Copy elements to newArr\n",
    "    for i in range(self.length):\n",
    "        newArr[i] = self.arr[i]\n",
    "    self.arr = newArr"
   ]
  },
  {
   "cell_type": "markdown",
   "metadata": {},
   "source": [
    "Adding elements to a dynamic array runs in O(1)O(1) amortized time.\n",
    "\n",
    "Amortized time complexity is the average time taken per operation over a sequence of operations. The resize operation itself is O(n)O(n), but since it is not performed every time we add an element, the average time taken per operation is O(1)O(1). But this is only the case if we double the size of the array when we run out of space.\n",
    "Why double the capacity?\n",
    "\n",
    "The visual below shows a resulting array of size 88. Now imagine that we wanted to dynamically fill it up and we started with a size 11 array. We would add 55, double the space to add 66, double that space to add 77 and 88, double that space to add 99, 1010, 1111 and 1212. \n",
    "\n",
    "The size of the above array went from 1 -> 2 -> 4 -> 8.\n",
    "\n",
    "To analyze the time complexity we have to take into consideration the sum of all the operations that occured before the last one since we would not have gotten to the resulting array without these operations. To achieve an array of size 88, we would have to perform 1+2+4+8=151+2+4+8=15 operations, which includes the resize operations.\n",
    "\n",
    "The pattern here is that the last term (the dominating term) is always greater than or equal to the sum of all the terms before it. In this case, 1+2+4=71+2+4=7, and 7<87<8. Add in the 88 to the 77, we get a total of 1515 operations to create the resulting array of size 88.\n",
    "\n",
    "Generally, the formula is that for any array size nn, it will take at most 2n2n operations to create, which would belong to O(n)O(n).\n",
    "\n",
    "Since inserting n elements into a dynamic array is O(n)O(n), the amortized time complexity of inserting a single element is O(1)O(1).\n",
    "\n",
    "    With time complexity, we are concerned with asymptotic analysis. This means we care about how quickly the runtime grows as the input size grows. We don't distinguish between O(2n)O(2n) and O(n)O(n) because the runtime grows linearly with the input size, even if the constant is doubled.\n",
    "    With time complexity analysis, we typically drop constant terms and coefficients. \n",
    "\n",
    "Other Operations\n",
    "\n",
    "Inserting or removing from the middle of a dynamic array would be similar to a static array. We would have to shift elements to the right or left to make space for the new element or to fill the gap left by the removed element. This would run in O(n)O(n) time."
   ]
  }
 ],
 "metadata": {
  "language_info": {
   "name": "python"
  }
 },
 "nbformat": 4,
 "nbformat_minor": 2
}
