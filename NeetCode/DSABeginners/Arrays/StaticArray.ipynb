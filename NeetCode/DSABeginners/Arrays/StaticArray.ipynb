{
 "cells": [
  {
   "cell_type": "markdown",
   "metadata": {},
   "source": [
    "-- Instead of using addresses we as programmers will use index to access the value at a specific point in an array. 1st value is always at index 0\n",
    "\n",
    "--Reading a value at any index is usually a O(n) operation (instantly)\n",
    "\n",
    "--RAM means we can instantly access any point of the RAM instantaneously\n",
    "\n",
    "--Static arrays are of fixed size (python and JS automatically use dynamic arrays)\n",
    "\n",
    "--When removing from a static array we do not actually remove the value we just override with a 0 or NULL\n",
    "\n",
    "--Writing to end position is also a O(1) operation, appending and poping\n",
    "\n",
    "--inserting or removing at any arbitrary position is not as efficient as the characters have to shift, this is an O(n) operation\n",
    "\n",
    "-- O always refers to the worst case"
   ]
  },
  {
   "cell_type": "code",
   "execution_count": 1,
   "metadata": {},
   "outputs": [
    {
     "name": "stdout",
     "output_type": "stream",
     "text": [
      "0\n",
      "1\n",
      "2\n",
      "3\n",
      "4\n",
      "5\n",
      "6\n",
      "7\n"
     ]
    }
   ],
   "source": [
    "#Traversing through an array\n",
    "myArray = [1,3,4,5,6,7,8,9]\n",
    "\n",
    "for i in range(len(myArray)):\n",
    "    print (i)"
   ]
  },
  {
   "cell_type": "code",
   "execution_count": 2,
   "metadata": {},
   "outputs": [
    {
     "name": "stdout",
     "output_type": "stream",
     "text": [
      "0\n",
      "1\n",
      "2\n",
      "3\n",
      "4\n",
      "5\n",
      "6\n",
      "7\n"
     ]
    }
   ],
   "source": [
    "#Traversing through an array\n",
    "myArray = [1,3,4,5,6,7,8,9]\n",
    "i = 0\n",
    "while i < len(myArray):\n",
    "    print(i)\n",
    "    i += 1\n",
    "\n"
   ]
  },
  {
   "cell_type": "markdown",
   "metadata": {},
   "source": [
    "In statically typed languages, all array indices are filled with 0s or some default value upon initialization, denoting an empty array.\n",
    "\n",
    "When we want to remove an element from the last index of an array, setting its value to 0 / null or -1 is the best we can do. This is known as a soft delete. The element is not being \"deleted\" per se, but it is being overwritten by a value that denotes an empty index. We will also reduce the length by 1 since we have one less element in the array after deletion. The code below demonstrates the concept using [4, 5, 6] as an example."
   ]
  },
  {
   "cell_type": "code",
   "execution_count": 3,
   "metadata": {},
   "outputs": [
    {
     "name": "stdout",
     "output_type": "stream",
     "text": [
      "[1, 2, 3, 0]\n"
     ]
    }
   ],
   "source": [
    "\n",
    "# Remove from the last position in the array if the array\n",
    "# is not empty (i.e. length is non-zero).\n",
    "def removeEnd(arr, length):\n",
    "    if length > 0:\n",
    "        # Overwrite last element with some default value.\n",
    "        # We would also consider the length to be decreased by 1.\n",
    "        arr[length - 1] = 0\n",
    "\n",
    "    return arr\n",
    "arr = [1,2,3,4]\n",
    "length = len(arr)\n",
    "print(removeEnd(arr,length))"
   ]
  },
  {
   "cell_type": "markdown",
   "metadata": {},
   "source": [
    "If instead of deleting at the end, we wanted to delete an element at a random index i. Would we be able to perform this in O(1)O(1)?\n",
    "\n",
    "We could naively just replace it with a 0, but this would break the contiguous nature of our array. Notice that deleting from the end of an array doesn't make it non-contigious, but deleting from the middle will.\n",
    "\n",
    "A better approach would be the following:\n",
    "\n",
    "    We are given the deletion index i.\n",
    "    We iterate starting from i + 1 until the end of the array.\n",
    "    We shift each element 1 position to the left.\n",
    "    (Optional) We replace the last element with a 0 or null to mark it empty, and decrement the length by 1.\n",
    "\n",
    "The following code demonstrates this operation."
   ]
  },
  {
   "cell_type": "code",
   "execution_count": 5,
   "metadata": {},
   "outputs": [
    {
     "name": "stdout",
     "output_type": "stream",
     "text": [
      "[1, 2, 3, 4, 6, 7, 7]\n"
     ]
    }
   ],
   "source": [
    "# Remove value at index i before shifting elements to the left.\n",
    "# Assuming i is a valid index.\n",
    "def removeMiddle(arr, i, length):\n",
    "    # Shift starting from i + 1 to end.\n",
    "    for index in range(i + 1, length):\n",
    "        arr[index - 1] = arr[index]\n",
    "    # No need to 'remove' arr[i], since we already shifted\n",
    "    return arr\n",
    "\n",
    "arr = [1,2,3,4,5,6,7]\n",
    "length = len(arr)\n",
    "i = 4\n",
    "\n",
    "print(removeMiddle(arr,i,length))"
   ]
  },
  {
   "cell_type": "code",
   "execution_count": 12,
   "metadata": {},
   "outputs": [
    {
     "ename": "IndexError",
     "evalue": "list assignment index out of range",
     "output_type": "error",
     "traceback": [
      "\u001b[1;31m---------------------------------------------------------------------------\u001b[0m",
      "\u001b[1;31mIndexError\u001b[0m                                Traceback (most recent call last)",
      "Cell \u001b[1;32mIn[12], line 14\u001b[0m\n\u001b[0;32m     12\u001b[0m capacity \u001b[38;5;241m=\u001b[39m \u001b[38;5;241m10\u001b[39m\n\u001b[0;32m     13\u001b[0m n \u001b[38;5;241m=\u001b[39m \u001b[38;5;241m6\u001b[39m\n\u001b[1;32m---> 14\u001b[0m \u001b[38;5;28mprint\u001b[39m(\u001b[43minsertEnd\u001b[49m\u001b[43m(\u001b[49m\u001b[43marr\u001b[49m\u001b[43m,\u001b[49m\u001b[43m \u001b[49m\u001b[43mn\u001b[49m\u001b[43m,\u001b[49m\u001b[43m \u001b[49m\u001b[43mlength\u001b[49m\u001b[43m,\u001b[49m\u001b[43m \u001b[49m\u001b[43mcapacity\u001b[49m\u001b[43m)\u001b[49m)\n",
      "Cell \u001b[1;32mIn[12], line 6\u001b[0m, in \u001b[0;36minsertEnd\u001b[1;34m(arr, n, length, capacity)\u001b[0m\n\u001b[0;32m      4\u001b[0m \u001b[38;5;28;01mdef\u001b[39;00m \u001b[38;5;21minsertEnd\u001b[39m(arr, n, length, capacity):\n\u001b[0;32m      5\u001b[0m     \u001b[38;5;28;01mif\u001b[39;00m length \u001b[38;5;241m<\u001b[39m capacity:\n\u001b[1;32m----> 6\u001b[0m         \u001b[43marr\u001b[49m\u001b[43m[\u001b[49m\u001b[43mlength\u001b[49m\u001b[43m]\u001b[49m \u001b[38;5;241m=\u001b[39m n\n\u001b[0;32m      8\u001b[0m     \u001b[38;5;28;01mreturn\u001b[39;00m arr\n",
      "\u001b[1;31mIndexError\u001b[0m: list assignment index out of range"
     ]
    }
   ],
   "source": [
    "# Insert n into arr at the next open position.\n",
    "# Length is the number of 'real' values in arr, and capacity\n",
    "# is the size (aka memory allocated for the fixed size array).\n",
    "def insertEnd(arr, n, length, capacity):\n",
    "    if length < capacity:\n",
    "        arr[length] = n\n",
    "\n",
    "    return arr\n",
    "\n",
    "arr = [1,2,3,4,0]\n",
    "length = len(arr)\n",
    "capacity = 10\n",
    "n = 6\n",
    "print(insertEnd(arr, n, length, capacity))\n"
   ]
  },
  {
   "cell_type": "markdown",
   "metadata": {},
   "source": [
    "Inserting at an arbitrary index i is more involved since we may insert in the middle of the array.\n",
    "\n",
    "Consider the array [4, 5, 6]. If we need to insert at index i = 1, or i = 0, we cannot overwrite the original value because we would lose it. Instead, we will need to shift all values, starting at index i, one position to the right. Below is the code and visual demonstrating this."
   ]
  },
  {
   "cell_type": "code",
   "execution_count": null,
   "metadata": {},
   "outputs": [],
   "source": [
    "# Insert n into index i after shifting elements to the right.\n",
    "# Assuming i is a valid index and arr is not full.\n",
    "def insertMiddle(arr, i, n, length):\n",
    "    # Shift starting from the end to i.\n",
    "    for index in range(length - 1, i - 1, -1):\n",
    "        arr[index + 1] = arr[index]\n",
    "    \n",
    "    # Insert at i\n",
    "    arr[i] = n"
   ]
  },
  {
   "cell_type": "markdown",
   "metadata": {},
   "source": [
    "Time Complexity\n",
    "Operation \tBig-O Time \tNotes\n",
    "Reading \tO(1)O(1) \t\n",
    "Insertion \tO(n)O(n)* \tIf inserting at the end of the array, O(1)O(1)\n",
    "Deletion \tO(n)O(n)* \tIf deleting at the end of the array, O(1)O(1)\n",
    "Closing Notes\n",
    "\n",
    "The operations we discussed above are absolutely critical for solving a lot of interview problems. In fact, the key to solving many problems is being able to implement the insert middle and delete middle operations efficiently.\n",
    "\n",
    "There are some suggested problems listed above. If you are a beginner you may find them challenging. That's completely okay, your goal should be to understand the concepts and the operations we discussed above. The solution code and video explanation are provided for each problem."
   ]
  }
 ],
 "metadata": {
  "kernelspec": {
   "display_name": "Python 3",
   "language": "python",
   "name": "python3"
  },
  "language_info": {
   "codemirror_mode": {
    "name": "ipython",
    "version": 3
   },
   "file_extension": ".py",
   "mimetype": "text/x-python",
   "name": "python",
   "nbconvert_exporter": "python",
   "pygments_lexer": "ipython3",
   "version": "3.13.1"
  }
 },
 "nbformat": 4,
 "nbformat_minor": 2
}
