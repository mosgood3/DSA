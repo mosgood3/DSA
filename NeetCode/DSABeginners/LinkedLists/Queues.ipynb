{
 "cells": [
  {
   "cell_type": "markdown",
   "metadata": {},
   "source": [
    "--Queues are a similar data structure to stacks but instead of LIFO they follow FIFO\n",
    "\n",
    "--Enqueuing meaning pushing or appending\n",
    "\n",
    "--dequeing is removing from the start of the stack, opposite of conventional stacks\n",
    "\n",
    "--with arrays we have to shift all the items causing this to be a O(n) operation but with queues we can pop from the beggining or dequeue with O(1)\n",
    "\n",
    "--setting the dummy head equal to cur.next.next is simple and will remove the current first node\n"
   ]
  },
  {
   "cell_type": "markdown",
   "metadata": {},
   "source": [
    "Queues\n",
    "\n",
    "Another data structure that overlaps with arrays is a Queue. They are also similar to stacks, except they follow a FIFO approach (First in First Out).\n",
    "\n",
    "A real world example would be a line at the bank. The first person added to the line (queue) is the first person to be served.\n",
    "Implementation and Operations\n",
    "\n",
    "The easiest way to implement a queue is using a linked list.\n",
    "\n",
    "    It is also possible to implement a queue using a dynamic array, but is more involved. To get the same time complexity as a linked list, you would need to use a circular array and perform some additional operations. \n",
    "\n",
    "The main two operations that queues support are enqueue and dequeue. \n",
    "\n",
    "\n",
    "Similar to stacks, it is a good measure to check if the queue is empty before performing the dequeue opeartion.\n",
    "\n",
    "There is also a variation of the queue, a double-ended queue, known as a deque (pronounced \"deck\"). A deque allows you to add and remove elements from both the head and the tail in O(1)O(1) time.\n",
    "\n",
    "One of the most important use cases for the queue is when performing breadth-first search for trees and graphs, which we will cover later in the course."
   ]
  },
  {
   "cell_type": "code",
   "execution_count": null,
   "metadata": {
    "vscode": {
     "languageId": "plaintext"
    }
   },
   "outputs": [],
   "source": [
    "def enqueue(self, val):\n",
    "    newNode = ListNode(val)\n",
    "\n",
    "    # Queue is non-empty\n",
    "    if self.right:\n",
    "        self.right.next = newNode\n",
    "        self.right = self.right.next\n",
    "    # Queue is empty\n",
    "    else:\n",
    "        self.left = self.right = newNode\n",
    "\n",
    "def dequeue(self):\n",
    "    # Queue is empty\n",
    "    if not self.left:\n",
    "        return None\n",
    "    \n",
    "    # Remove left node and return value\n",
    "    val = self.left.val\n",
    "    self.left = self.left.next\n",
    "    if not self.left:\n",
    "        self.right = None\n",
    "    return val"
   ]
  },
  {
   "cell_type": "markdown",
   "metadata": {},
   "source": [
    "1700. Number of Students Unable to Eat Lunch\n",
    "Solved\n",
    "Easy\n",
    "Topics\n",
    "Companies\n",
    "Hint\n",
    "\n",
    "The school cafeteria offers circular and square sandwiches at lunch break, referred to by numbers 0 and 1 respectively. All students stand in a queue. Each student either prefers square or circular sandwiches.\n",
    "\n",
    "The number of sandwiches in the cafeteria is equal to the number of students. The sandwiches are placed in a stack. At each step:\n",
    "\n",
    "    If the student at the front of the queue prefers the sandwich on the top of the stack, they will take it and leave the queue.\n",
    "    Otherwise, they will leave it and go to the queue's end.\n",
    "\n",
    "This continues until none of the queue students want to take the top sandwich and are thus unable to eat.\n",
    "\n",
    "You are given two integer arrays students and sandwiches where sandwiches[i] is the type of the i​​​​​​th sandwich in the stack (i = 0 is the top of the stack) and students[j] is the preference of the j​​​​​​th student in the initial queue (j = 0 is the front of the queue). Return the number of students that are unable to eat."
   ]
  },
  {
   "cell_type": "code",
   "execution_count": null,
   "metadata": {
    "vscode": {
     "languageId": "plaintext"
    }
   },
   "outputs": [],
   "source": [
    "from collections import deque\n",
    "from typing import List\n",
    "\n",
    "class Solution:\n",
    "    def countStudents(self, students: List[int], sandwiches: List[int]) -> int:\n",
    "        queue = deque(students)  # Initialize queue for students\n",
    "        sandwiches = deque(sandwiches)  # Use deque for sandwiches (optional for efficient pop)\n",
    "        \n",
    "        failed_attempts = 0  # Counter to track consecutive failures\n",
    "        \n",
    "        while queue and failed_attempts < len(queue):\n",
    "            if queue[0] == sandwiches[0]:  # If the student can eat the sandwich\n",
    "                queue.popleft()  # Remove student from the queue\n",
    "                sandwiches.popleft()  # Remove sandwich from the stack\n",
    "                failed_attempts = 0  # Reset the failure counter\n",
    "            else:\n",
    "                queue.append(queue.popleft())  # Rotate the student to the back of the queue\n",
    "                failed_attempts += 1  # Increment the failure counter\n",
    "        \n",
    "        # Remaining students in the queue cannot eat\n",
    "        return len(queue)"
   ]
  },
  {
   "cell_type": "markdown",
   "metadata": {},
   "source": [
    "225. Implement Stack using Queues\n",
    "Solved\n",
    "Easy\n",
    "Topics\n",
    "Companies\n",
    "\n",
    "Implement a last-in-first-out (LIFO) stack using only two queues. The implemented stack should support all the functions of a normal stack (push, top, pop, and empty).\n",
    "\n",
    "Implement the MyStack class:\n",
    "\n",
    "    void push(int x) Pushes element x to the top of the stack.\n",
    "    int pop() Removes the element on the top of the stack and returns it.\n",
    "    int top() Returns the element on the top of the stack.\n",
    "    boolean empty() Returns true if the stack is empty, false otherwise.\n",
    "\n",
    "Notes:\n",
    "\n",
    "    You must use only standard operations of a queue, which means that only push to back, peek/pop from front, size and is empty operations are valid.\n",
    "    Depending on your language, the queue may not be supported natively. You may simulate a queue using a list or deque (double-ended queue) as long as you use only a queue's standard operations.\n",
    "\n",
    " "
   ]
  },
  {
   "cell_type": "code",
   "execution_count": null,
   "metadata": {
    "vscode": {
     "languageId": "plaintext"
    }
   },
   "outputs": [],
   "source": [
    "from collections import deque\n",
    "\n",
    "class MyStack:\n",
    "\n",
    "    def __init__(self):\n",
    "        self.stack = deque()\n",
    "\n",
    "    def push(self, x: int) -> None:\n",
    "        self.stack.appendleft(x)\n",
    "\n",
    "    def pop(self) -> int:\n",
    "        return self.stack.popleft()\n",
    "\n",
    "    def top(self) -> int:\n",
    "        return self.stack[0]\n",
    "\n",
    "    def empty(self) -> bool:\n",
    "        return True if not self.stack else False"
   ]
  }
 ],
 "metadata": {
  "language_info": {
   "name": "python"
  }
 },
 "nbformat": 4,
 "nbformat_minor": 2
}
