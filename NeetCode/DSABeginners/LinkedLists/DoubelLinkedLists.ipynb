{
 "cells": [
  {
   "cell_type": "markdown",
   "metadata": {},
   "source": [
    "--Same as a singly linked list, instead the node always points to the previous node as well\n",
    "\n",
    "--when inserting to the end of a doubly linked list what you do is set the tail.next to the new node, net the new node.prev to the tail and make the new node the tail\n",
    "\n",
    "    tail.next = Listnode4\n",
    "    listnode4.prev = tail\n",
    "    tail = tail.next\n",
    "\n",
    "--the order of these operations is very important\n",
    "\n",
    "removing from the end of a doubly linked list is a lot easier because we already have a previous pointer\n",
    "\n",
    "    node2 = tail.prev\n",
    "    node2.next = None\n",
    "    tail = node2\n",
    "\n",
    "--in the code above we did not remove the tail but we are no longer referencing it, some languages that have a garbage cleaner may just get rid of this node\n",
    "\n",
    "--deleting and adding from the end of a list are both done in constant or O(1) time\n",
    "\n",
    "--stacks can be implimented with linked lists it is just a lot less common\n",
    "--accesing a random element in a linked list is a o(n) operation\n",
    "\n",
    "--inserting end for both arrays and linked lists is a O(1)\n",
    "--accesing the ith element is O(1) for arrays and O(n) for LL\n",
    "--inseting at ith index is O(n) for arrays and O(1) for LL\n",
    "    it is an O(1) operation for LL, but to find the LL you must know where the node is, this requires a pointer or loop to find it, so this is most cases an O(n) scenario\n"
   ]
  },
  {
   "cell_type": "markdown",
   "metadata": {},
   "source": [
    "Having learned about singly linked lists, let’s next learn about its variation - the Doubly Linked List. As the name implies, each node now has two pointers. In addition to the next pointer, we have a prev pointer which points to the previous node. If the prev pointer points to null, it is an indication that we are at the head of the linked list.\n",
    "\n",
    "Similar to the singly linked list, adding a node to a doubly linked list will run in O(1)O(1) time. Only this time, we have to update the prev pointer as well.\n",
    "\n",
    "For example, if we have three nodes in our linked list, ListNode1, ListNode2 and ListNode3. Now we have another node, ListNode4, that we wish to insert at the end. We will have to update both the next pointer of ListNode3 and the prev pointer of ListNode4."
   ]
  },
  {
   "cell_type": "code",
   "execution_count": null,
   "metadata": {
    "vscode": {
     "languageId": "plaintext"
    }
   },
   "outputs": [],
   "source": [
    "class ListNode:\n",
    "    def __init__(self, val):\n",
    "        self.val = val\n",
    "        self.next = None\n",
    "        self.prev = None\n",
    "\n",
    "# Implementation for Doubly Linked List\n",
    "class LinkedList:\n",
    "    def __init__(self):\n",
    "        # Init the list with 'dummy' head and tail nodes which makes \n",
    "        # edge cases for insert & remove easier.\n",
    "        self.head = ListNode(-1)\n",
    "        self.tail = ListNode(-1)\n",
    "        self.head.next = self.tail\n",
    "        self.tail.prev = self.head\n",
    "    \n",
    "    def insertFront(self, val):\n",
    "        newNode = ListNode(val)\n",
    "        newNode.prev = self.head\n",
    "        newNode.next = self.head.next\n",
    "\n",
    "        self.head.next.prev = newNode\n",
    "        self.head.next = newNode\n",
    "\n",
    "    def insertEnd(self, val):\n",
    "        newNode = ListNode(val)\n",
    "        newNode.next = self.tail\n",
    "        newNode.prev = self.tail.prev\n",
    "\n",
    "        self.tail.prev.next = newNode\n",
    "        self.tail.prev = newNode\n",
    "\n",
    "    # Remove first node after dummy head (assume it exists)\n",
    "    def removeFront(self):\n",
    "        self.head.next.next.prev = self.head\n",
    "        self.head.next = self.head.next.next\n",
    "\n",
    "    # Remove last node before dummy tail (assume it exists)\n",
    "    def removeEnd(self):\n",
    "        self.tail.prev.prev.next = self.tail\n",
    "        self.tail.prev = self.tail.prev.prev\n",
    "\n",
    "    def print(self):\n",
    "        curr = self.head.next\n",
    "        while curr != self.tail:\n",
    "            print(curr.val, \" -> \")\n",
    "            curr = curr.next\n",
    "        print()\n"
   ]
  }
 ],
 "metadata": {
  "language_info": {
   "name": "python"
  }
 },
 "nbformat": 4,
 "nbformat_minor": 2
}
