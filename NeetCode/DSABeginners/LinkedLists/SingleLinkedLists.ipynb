{
 "cells": [
  {
   "cell_type": "markdown",
   "metadata": {},
   "source": [
    "--Linked lists are made up of nodes, a list node is made up of two things at minimum, the value and next (pointer), which points to the next list node. \n",
    "\n",
    "--When all of these are together it creates the linked list, when the next value points to NULL that means you are at the end of the list\n",
    "\n",
    "--listNode1.next = listNode2, this is how the pointer is created in most programming languages\n",
    "\n",
    "--Linked lists are not stored in memeory the same way we use them in code, unlike an array they are not stored identically\n",
    "\n",
    "--curr = ListNode1\n",
    "    while( curr != null)\n",
    "        curr = curr.next\n",
    "\n",
    "--traversing through a linked list is the same time complexity as an array O(n)\n",
    "\n",
    "--adding a node to the end of a linked list requires the tail is updated to point at the new node and the tail is now the new node\n",
    "\n",
    "--looks something like this, also a constant time operation O(n)\n",
    "\n",
    "    tail.next = listNode4\n",
    "    tail = listnode4\n",
    "\n",
    "\n",
    "removing a node is also a constant time operation, it looks something like this\n",
    "\n",
    "head.next = head.next.next\n",
    "\n",
    "--we can assume the element is cleaned up by the operating system, the nice thing about linkedlists is that we can remove any element in constant time, instead of like we do with an array which is O(n). There is no shifting.\n",
    "\n",
    "----but we still have to start at the beggining and traverse through until we are attempting to find the node we want to remove\n"
   ]
  },
  {
   "cell_type": "markdown",
   "metadata": {},
   "source": [
    " linked list is another data structure that is like an array in the sense that it stores elements in an ordered sequence. But there are also some key differences.\n",
    "\n",
    "The main difference is that linked lists are made up of objects called ListNode's. This object contains two attributes:\n",
    "\n",
    "    value - This stores the value of the node. It could be a character, an integer, etc.\n",
    "    next - This stores the reference to the next node in the linked list. The picture below visualizes the ListNode object. This will make more sense a little later on.\n",
    "\n",
    "\n",
    "Next, we would need to make sure that our next pointers point to another ListNode, and not null. Only the last node in the linked list would have its next pointer point to null.\n",
    "To traverse a linked list from beginning to end, we can just make use of a simple while loop.\n",
    "\n",
    "cur = ListNode1\n",
    "while cur:\n",
    "    cur = cur.next\n",
    "\n",
    "    We start the traversal at the head of the list, which is ListNode1.\n",
    "\n",
    "    We assign it to a variable cur, denoting the current node we are at.\n",
    "\n",
    "    We execute the while loop until we reach the end of the list which is null.\n",
    "\n",
    "    In each iteration, we update cur to be the next node in the list by setting cur = cur.next.\n",
    "\n",
    "    The traversal runs in O(n)O(n) time where nn is the number of nodes in the linked list.\n"
   ]
  },
  {
   "cell_type": "markdown",
   "metadata": {},
   "source": [
    "An interesting scenario presents itself if ListNode3’s next pointer is set to ListNode1 instead of null. This results in a circular linked list.\n",
    "\n",
    "Attempting to iterate through a circular linked list would result in an infinite loop. We would never reach the end of the linked list.\n",
    "\n",
    "Linked Lists have a head, and a tail pointer. The head pointer points to the very first node in the linked list, ListNode1, and the tail pointer points to the very last node — ListNode3. If there is only one node in the Linked List, the head and the tail point to the same node."
   ]
  },
  {
   "cell_type": "markdown",
   "metadata": {},
   "source": [
    "An advantage that Linked Lists have over arrays is that inserting a new element can be performed in O(1)O(1) time, even if we insert in the middle.\n",
    "\n",
    "We do not have to shift any elements since there is no requirement for the elements to be stored contiguously in memory.\n",
    "\n",
    "    This assumes we already have a reference to the node at the desired position we want to insert. If we have to traverse the list to arrive at the insertion point, the operation would take O(n)O(n) time. \n",
    "\n",
    "If we wanted to append a ListNode4 to the end of the list, we would be appending to the tail. Once ListNode4 is appended, we update our tail pointer to be at ListNode4. This operation would be done in O(1)O(1) time since it is only one operation. The steps would look like the following, with code."
   ]
  },
  {
   "cell_type": "markdown",
   "metadata": {},
   "source": [
    "Deleting a node from a singly linked list will take O(1)O(1) since we can accomplish this by updating a single pointer.\n",
    "\n",
    "    This assumes we already have a reference to the node at the desired position we want to delete. If we have to traverse the list to arrive at the deletion point, the operation would take O(n)O(n) time. \n",
    "\n",
    "Suppose we want to delete ListNode2. Currently, our head points to ListNode1, and head.next points to ListNode2. We can update our head.next pointer to ListNode3, which can be accessed by chaining next pointers like head.next.next. This makes sense since head.next is ListNode2, and logically, head.next.next would be ListNode3."
   ]
  },
  {
   "cell_type": "code",
   "execution_count": null,
   "metadata": {},
   "outputs": [],
   "source": [
    "class ListNode:\n",
    "    def __init__(self, val):\n",
    "        self.val = val\n",
    "        self.next = None\n",
    "\n",
    "# Implementation for Singly Linked List\n",
    "class LinkedList:\n",
    "    def __init__(self):\n",
    "        # Init the list with a 'dummy' node which makes \n",
    "        # removing a node from the beginning of list easier.\n",
    "        self.head = ListNode(-1)\n",
    "        self.tail = self.head\n",
    "    \n",
    "    def insertEnd(self, val):\n",
    "        self.tail.next = ListNode(val)\n",
    "        self.tail = self.tail.next\n",
    "\n",
    "    def remove(self, index):\n",
    "        i = 0\n",
    "        curr = self.head\n",
    "        while i < index and curr:\n",
    "            i += 1\n",
    "            curr = curr.next\n",
    "        \n",
    "        # Remove the node ahead of curr\n",
    "        if curr and curr.next:\n",
    "            if curr.next == self.tail:\n",
    "                self.tail = curr\n",
    "            curr.next = curr.next.next\n",
    "\n",
    "    def print(self):\n",
    "        curr = self.head.next\n",
    "        while curr:\n",
    "            print(curr.val, \" -> \", end=\"\")\n",
    "            curr = curr.next\n",
    "        print()\n"
   ]
  }
 ],
 "metadata": {
  "kernelspec": {
   "display_name": "Python 3",
   "language": "python",
   "name": "python3"
  },
  "language_info": {
   "name": "python",
   "version": "3.13.1"
  }
 },
 "nbformat": 4,
 "nbformat_minor": 2
}
