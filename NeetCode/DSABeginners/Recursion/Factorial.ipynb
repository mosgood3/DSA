{
 "cells": [
  {
   "cell_type": "markdown",
   "metadata": {},
   "source": [
    "--Recursion is the idea of taking a large problem and breaking it down into a smaller problem\n",
    "\n",
    "--an example of this is doing factorial problem 5!, we can look at this as 5*(n-1)*(n-1)...1\n",
    "\n",
    "--the sub problem in this would be doing 5 * (n-1)\n",
    "\n",
    "--the easiest way to represent this is to use a decision tree\n",
    "\n",
    "--for this example of a factorial problem, the easiest way to do this is through a decision tree (one branch)"
   ]
  },
  {
   "cell_type": "code",
   "execution_count": null,
   "metadata": {
    "vscode": {
     "languageId": "plaintext"
    }
   },
   "outputs": [],
   "source": [
    "# Definition for singly-linked list.\n",
    "# class ListNode:\n",
    "#     def __init__(self, val=0, next=None):\n",
    "#         self.val = val\n",
    "#         self.next = next\n",
    "\n",
    "class Solution:\n",
    "    def reverseList(self, head: Optional[ListNode]) -> Optional[ListNode]:\n",
    "        \n",
    "        \"\"\" Below is the iteration approach\n",
    "        prev, curr = None, head\n",
    "\n",
    "        while curr:\n",
    "            nxt = curr.next\n",
    "            curr.next = prev\n",
    "            prev = curr\n",
    "            curr = nxt\n",
    "        \n",
    "        return prev\n",
    "            \"\"\"\n",
    "        #Below is using a recursive function\n",
    "\n",
    "        if not head:\n",
    "            return None\n",
    "\n",
    "        \n",
    "\n",
    "        newHead = head\n",
    "\n",
    "        if head.next:\n",
    "            newHead = self.reverseList(head.next)\n",
    "            head.next.next = head\n",
    "        head.next = None\n",
    "\n",
    "        return newHead\n",
    "            "
   ]
  }
 ],
 "metadata": {
  "language_info": {
   "name": "python"
  }
 },
 "nbformat": 4,
 "nbformat_minor": 2
}
