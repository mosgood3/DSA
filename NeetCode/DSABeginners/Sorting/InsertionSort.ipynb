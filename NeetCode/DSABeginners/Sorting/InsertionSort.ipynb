{
 "cells": [
  {
   "cell_type": "markdown",
   "metadata": {},
   "source": [
    "Insertion Sort\n",
    "\n",
    "Insertion sort is one of many sorting algorithms used to sort data in different data structures.\n",
    "\n",
    "Each sorting algorithm has its own advantages and disadvantages. Insertion sort is no exception. It is a simple algorithm that is easy to implement and understand. However, it is not the most efficient sorting algorithm when it comes to large data sets.\n",
    "Concept\n",
    "\n",
    "Given the array [2,3,4,1,6], our goal is to sort the array so that it looks like [1,2,3,4,6].\n",
    "\n",
    "Insertion sort accomplishes this by sorting portions of the array at a time.\n",
    "\n",
    "Consider this: if we had an array of size 11, that would already be sorted because there is no other element to compare it to.\n",
    "\n",
    "As such, we assume that the first element is sorted because we treat it as its own subarray.\n",
    "\n",
    "The next subarray will be of size 22 starting from the beginning. In this example that is [2,3,...]. To sort only these two elements we need to compare them.\n",
    "\n",
    "For an array of size 22, this is trivial. However, when we get to the full array of size 55, there is no way to keep track of where each element is without using pointers. So, let's take two pointers, i and j. "
   ]
  },
  {
   "cell_type": "code",
   "execution_count": null,
   "metadata": {
    "vscode": {
     "languageId": "plaintext"
    }
   },
   "outputs": [],
   "source": [
    "def insertionSort(arr):\n",
    "\t# Traverse through 1 to len(arr)\n",
    "    for i in range(1, len(arr)):\n",
    "        j = i - 1\n",
    "        while j >= 0 and arr[j + 1] < arr[j]:\n",
    "            # arr[j] and arr[j + 1] are out of order so swap them \n",
    "            tmp = arr[j + 1]\n",
    "            arr[j + 1] = arr[j]\n",
    "            arr[j] = tmp\n",
    "            j -= 1\n",
    "    return arr"
   ]
  },
  {
   "cell_type": "markdown",
   "metadata": {},
   "source": [
    "Time and Space Complexity\n",
    "Time\n",
    "\n",
    "If the input array is already sorted you may notice that the inner loop will never execute. This is the best case scenario for insertion sort where the time complexity is O(n)O(n).\n",
    "\n",
    "In the worst case scenario, the time complexity is O(n2)O(n2). This is because the inner loop will execute nn times for each element in the array.\n",
    "\n",
    "Can you guess what kind of input would lead to the worst case scenario?\n",
    "Click here for the answer\n",
    "\n",
    "\n",
    "Note that even if the array is in random order, the time complexity is still O(n2)O(n2) in the average case.\n",
    "Space\n",
    "\n",
    "Insertion sort is an in-place sorting algorithm. This means that the space complexity is O(1)O(1) since no additional data structures are used."
   ]
  }
 ],
 "metadata": {
  "language_info": {
   "name": "python"
  }
 },
 "nbformat": 4,
 "nbformat_minor": 2
}
