{
 "cells": [
  {
   "cell_type": "markdown",
   "metadata": {},
   "source": [
    "Quick Sort\n",
    "\n",
    "Quick sort is another divide and conquer algorithm used for sorting, similar to merge sort.\n",
    "Implementation\n",
    "\n",
    "The idea behind quicksort is to pick an index, which is called the pivot. We then partition the array such that every value to the left is less than or equal to the pivot and every value to the right is greater than the pivot.\n",
    "Picking a pivot value\n",
    "\n",
    "There are several ways to pick a pivot value. Some of the common ways are:\n",
    "\n",
    "    Pick the first index\n",
    "    Pick the last index\n",
    "    Pick the median (pick the first, last and the middle value and find their median and perform the split at the median)\n",
    "    Pick a random pivot\n",
    "\n",
    "Ideally we can pick a pivot that would divide the array into two roughly equal halves. This would result in the most efficient sorting scenario.\n",
    "\n",
    "For simplicity, in this lesson we will pick the last element as the pivot."
   ]
  },
  {
   "cell_type": "markdown",
   "metadata": {},
   "source": [
    "Time and Space Complexity\n",
    "\n",
    "The analysis of quicksort is similar to merge sort.\n",
    "\n",
    "The partition step takes O(n)O(n) time and we do this for every level of the recursion tree. The number of levels in the recursion tree is O(log n)O(log n), but only in the best case.\n",
    "\n",
    "The best case is that we pick a pivot such that we can always perform the partition in the middle. If the array is perfectly partitioned in the middle every single time and the pivot is the median, it is possible to keep getting O(n log n)O(n log n) as the ultimate result.\n",
    "\n",
    "Continuously picking a pivot where the pivot element is the smallest or the largest element will result in the worst case performance of O(n2)O(n2). This is because our partitioning will not be effective and we will end up with a partition of size n-1 and 0 respectively, making the height of our recursion tree n.\n",
    "Stability\n",
    "\n",
    "Quicksort is not a stable algorithm because it exchanges non-adjacent elements.\n",
    "\n",
    "Take the array [7,3,7,4,5] where we have two 7s, one at the 0th index and one at the 2nd index. In this case, if our pivot is the 4th and the last index, we will end up with [3,4,7,7,5] where the 7 from the 0th index is now at 3rd index, which means that the relative order of the 7's has been reversed."
   ]
  },
  {
   "cell_type": "code",
   "execution_count": null,
   "metadata": {
    "vscode": {
     "languageId": "plaintext"
    }
   },
   "outputs": [],
   "source": [
    "# Implementation of QuickSort\n",
    "def quickSort(arr: list[int], s: int, e: int) -> list[int]:\n",
    "    if e - s + 1 <= 1:\n",
    "        return arr\n",
    "\n",
    "    pivot = arr[e]\n",
    "    left = s # pointer for left side\n",
    "\n",
    "    # Partition: elements smaller than pivot on left side\n",
    "    for i in range(s, e):\n",
    "        if arr[i] < pivot:\n",
    "            tmp = arr[left]\n",
    "            arr[left] = arr[i]\n",
    "            arr[i] = tmp\n",
    "            left += 1\n",
    "\n",
    "    # Move pivot in-between left & right sides\n",
    "    arr[e] = arr[left]\n",
    "    arr[left] = pivot\n",
    "    \n",
    "    # Quick sort left side\n",
    "    quickSort(arr, s, left - 1)\n",
    "\n",
    "    # Quick sort right side\n",
    "    quickSort(arr, left + 1, e)\n",
    "\n",
    "    return arr\n",
    "    "
   ]
  }
 ],
 "metadata": {
  "language_info": {
   "name": "python"
  }
 },
 "nbformat": 4,
 "nbformat_minor": 2
}
