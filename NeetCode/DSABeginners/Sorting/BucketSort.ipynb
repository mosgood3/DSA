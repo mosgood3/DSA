{
 "cells": [
  {
   "cell_type": "markdown",
   "metadata": {},
   "source": [
    "Time Complexity\n",
    "\n",
    "You may be looking at the nested for loop and immediately going, that is O(n2)O(n2). That is not quite right. Let's do some analysis. We know that for the first for loop, we are performing nn steps since we are going through all the elements and counting frequency.\n",
    "\n",
    "The first for loop will run nn times where nn is the length of the counts array. However, the inner loop will only run until counts[n], which is a different everytime. The first time it will be 22, then 11 and then 33. Therefore, our algorithm belongs belongs to O(n)O(n).\n",
    "\n",
    "    It should be noted that nested for loops don't always mean a time complexity of O(n2)O(n2). As we saw saw above, it is important to analyze how many times the inner for loop executes on each outer for loop iteration. More information on this can be found in the lessons section for Big-O Notation. \n",
    "\n",
    "Stability\n",
    "\n",
    "Since we are overwriting the original array, there is no way to preserve the relative order of the values. There is no swapping that takes place either. Hence, it will stay unstable.\n",
    "Closing Notes\n",
    "\n",
    "So while the bucket sort algorithm runs in O(n)O(n) time, we must remember that it will only work if the dataset is within a specified range.\n",
    "\n",
    "Generally, with algorithmic problems, the safest bet is making use of merge sort, or quick sort.\n",
    "Algorithm \tBig-O Time Complexity \tNote\n",
    "Insertion Sort \tO(n2)O(n2)* \tIf fully, or nearly sorted, O(n)O(n)\n",
    "Merge Sort \tO(n log n)O(n log n) \t\n",
    "Quick Sort \tO(n log n)O(n log n)* \tIn worst case it is O(n2)O(n2)\n",
    "Bucket Sort \tO(n)O(n)* \tAssuming all values in the input are in a specified range."
   ]
  },
  {
   "cell_type": "code",
   "execution_count": null,
   "metadata": {
    "vscode": {
     "languageId": "plaintext"
    }
   },
   "outputs": [],
   "source": [
    "def bucketSort(arr):\n",
    "    # Assuming arr only contains 0, 1 or 2\n",
    "    counts = [0, 0, 0]\n",
    "\n",
    "    # Count the quantity of each val in arr\n",
    "    for n in arr:\n",
    "        counts[n] += 1\n",
    "    \n",
    "    # Fill each bucket in the original array\n",
    "    i = 0\n",
    "    for n in range(len(counts)):\n",
    "        for j in range(counts[n]):\n",
    "            arr[i] = n\n",
    "            i += 1\n",
    "    return arr"
   ]
  }
 ],
 "metadata": {
  "language_info": {
   "name": "python"
  }
 },
 "nbformat": 4,
 "nbformat_minor": 2
}
