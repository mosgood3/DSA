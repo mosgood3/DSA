{
 "cells": [
  {
   "cell_type": "markdown",
   "metadata": {},
   "source": [
    "Returning each component of an array"
   ]
  },
  {
   "cell_type": "code",
   "execution_count": 7,
   "metadata": {},
   "outputs": [
    {
     "name": "stdout",
     "output_type": "stream",
     "text": [
      "1\n",
      "3\n",
      "3\n",
      "4\n",
      "6\n"
     ]
    }
   ],
   "source": [
    "\n",
    "MyArray = [1,3,3,4,6]\n",
    "for numa in range(len(MyArray)):\n",
    "    print (MyArray[numa])\n",
    "\n"
   ]
  },
  {
   "cell_type": "markdown",
   "metadata": {},
   "source": [
    "Removing from the end of an array"
   ]
  },
  {
   "cell_type": "code",
   "execution_count": 21,
   "metadata": {},
   "outputs": [
    {
     "data": {
      "text/plain": [
       "[0, 1, 2, 3, 4, 0]"
      ]
     },
     "execution_count": 21,
     "metadata": {},
     "output_type": "execute_result"
    }
   ],
   "source": [
    "def RemoveEnd(arr, length):\n",
    "    if length > 0:\n",
    "\n",
    "        arr[length - 1] = 0\n",
    "    return arr\n",
    "\n",
    "\n",
    "arr = [0,1,2,3,4,5]\n",
    "length = len(arr)\n",
    "\n",
    "RemoveEnd(arr,length)"
   ]
  },
  {
   "cell_type": "markdown",
   "metadata": {},
   "source": [
    "Removing from the middle of an array"
   ]
  },
  {
   "cell_type": "code",
   "execution_count": 32,
   "metadata": {},
   "outputs": [
    {
     "data": {
      "text/plain": [
       "[1, 2, 3, 5, '_']"
      ]
     },
     "execution_count": 32,
     "metadata": {},
     "output_type": "execute_result"
    }
   ],
   "source": [
    "def RemoveMiddle(arr, i, length):\n",
    "    for index in range(i + 1, len(arr)):\n",
    "        arr[index - 1] = arr[index]\n",
    "        arr[length-1] = \"_\"\n",
    "    return arr\n",
    "\n",
    "arr = [1,2,3,4,5]\n",
    "length = len(arr)\n",
    "i = 3\n",
    "RemoveMiddle(arr,i,length)"
   ]
  },
  {
   "cell_type": "code",
   "execution_count": null,
   "metadata": {},
   "outputs": [
    {
     "ename": "TypeError",
     "evalue": "'tuple' object does not support item assignment",
     "output_type": "error",
     "traceback": [
      "\u001b[1;31m---------------------------------------------------------------------------\u001b[0m",
      "\u001b[1;31mTypeError\u001b[0m                                 Traceback (most recent call last)",
      "Cell \u001b[1;32mIn[35], line 3\u001b[0m\n\u001b[0;32m      1\u001b[0m my_tuple \u001b[38;5;241m=\u001b[39m (\u001b[38;5;241m4\u001b[39m, \u001b[38;5;241m5\u001b[39m, \u001b[38;5;241m6\u001b[39m)\n\u001b[1;32m----> 3\u001b[0m \u001b[43mmy_tuple\u001b[49m\u001b[43m[\u001b[49m\u001b[38;5;241;43m0\u001b[39;49m\u001b[43m]\u001b[49m \u001b[38;5;241m=\u001b[39m \u001b[38;5;241m1\u001b[39m \u001b[38;5;66;03m# Raises an error\u001b[39;00m\n",
      "\u001b[1;31mTypeError\u001b[0m: 'tuple' object does not support item assignment"
     ]
    }
   ],
   "source": [
    "from typing import List\n",
    "\n",
    "def get_last_three_elements(my_list: List[int]) -> List[int]:\n",
    "\n",
    "    return my_list[:2]\n",
    "\n",
    "\n",
    "# do not modify below this line\n",
    "print(get_last_three_elements([1, 2, 3]))\n",
    "print(get_last_three_elements([1, 2, 3, 4, 5]))\n",
    "print(get_last_three_elements([1, 2, 3, 4, 5, 6, 7, 8, 9]))\n",
    "\n"
   ]
  },
  {
   "cell_type": "code",
   "execution_count": null,
   "metadata": {},
   "outputs": [],
   "source": []
  }
 ],
 "metadata": {
  "kernelspec": {
   "display_name": "Python 3",
   "language": "python",
   "name": "python3"
  },
  "language_info": {
   "codemirror_mode": {
    "name": "ipython",
    "version": 3
   },
   "file_extension": ".py",
   "mimetype": "text/x-python",
   "name": "python",
   "nbconvert_exporter": "python",
   "pygments_lexer": "ipython3",
   "version": "3.12.8"
  }
 },
 "nbformat": 4,
 "nbformat_minor": 2
}
