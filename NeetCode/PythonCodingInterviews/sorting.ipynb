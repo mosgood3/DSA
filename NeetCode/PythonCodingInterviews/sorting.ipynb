{
 "cells": [
  {
   "cell_type": "markdown",
   "metadata": {},
   "source": [
    "Challenge\n",
    "\n",
    "Implement the following functions:\n",
    "\n",
    "    sort_words(words: List[str]) -> List[str] - This function accepts a list of words and returns the list of words sorted in ascending order.\n",
    "    sort_numbers(numbers: List[int]) -> List[int] - This function accepts a list of numbers and returns the list of numbers sorted in ascending order.\n",
    "    sort_decimals(numbers: List[float]) -> List[float] - This function accepts a list of decimal numbers and returns the list of decimal numbers sorted in ascending order.\n",
    "\n",
    "Time and Space Complexity\n",
    "\n",
    "    The time complexity of the .sort() method is O(nlogn), where n is the number of elements in the list.\n",
    "    The space complexity is O(n)O(n), where n is the number of elements in the list.\n",
    "\n",
    "Note: Python uses the Timsort algorithm for sorting lists. Timsort is a hybrid sorting algorithm derived from merge sort and insertion sort. To learn more about sorting, check out the Data Structures and Algorithms for Beginners course."
   ]
  },
  {
   "cell_type": "code",
   "execution_count": null,
   "metadata": {},
   "outputs": [],
   "source": [
    "from typing import List\n",
    "\n",
    "\n",
    "def sort_words(words: List[str]) -> List[str]:\n",
    "    words.sort()\n",
    "    return words\n",
    "\n",
    "def sort_numbers(numbers: List[int]) -> List[int]:\n",
    "    numbers.sort()\n",
    "    return numbers\n",
    "\n",
    "def sort_decimals(numbers: List[float]) -> List[float]:\n",
    "    numbers.sort()\n",
    "    return numbers\n",
    "\n",
    "\n",
    "\n",
    "# do not modify below this line\n",
    "print(sort_words([\"cherry\", \"apple\", \"blueberry\", \"banana\", \"watermelon\", \"zucchini\", \"kiwi\", \"pear\"]))\n",
    "\n",
    "print(sort_numbers([1, 5, 3, 2, 4, 11, 19, 9, 2, 5, 6, 7, 4, 2, 6]))\n",
    "\n",
    "print(sort_decimals([3.14, 2.82, 6.433, 7.9, 21.555, 21.554]))"
   ]
  },
  {
   "cell_type": "markdown",
   "metadata": {},
   "source": [
    "The sort argument has two parameters. The first one is key = allows us to sort on specific elements. The other is reverse, default is set to false meaning it will sort in ascending order. Opposite of this is False which will sort in desc order.\n",
    "\n",
    "The key paramter does not accept a value. Instead it accepts a fucntion that is used for sorting\n",
    "Implement the following functions:\n",
    "\n",
    "    sort_words(words: List[str]) -> List[str] - This function accepts a list of words and returns a new list of words sorted based on their length, in descending order.\n",
    "\n",
    "    sort_numbers(numbers: List[int]) -> List[int] - This function accepts a list of numbers and returns a new list of numbers sorted based on their absolute value, in ascending order. Hint: You may use the abs() function to get the absolute value of a number.\n"
   ]
  },
  {
   "cell_type": "code",
   "execution_count": 1,
   "metadata": {},
   "outputs": [
    {
     "name": "stdout",
     "output_type": "stream",
     "text": [
      "['watermelon', 'blueberry', 'zucchini', 'cherry', 'banana', 'apple', 'kiwi', 'pear']\n",
      "[1, 2, -2, 2, -3, 4, -4, -5, 5, -6, 6, 7, 9, 11, -19]\n"
     ]
    }
   ],
   "source": [
    "from typing import List\n",
    "\n",
    "def sort_length(word):\n",
    "    return len(word)\n",
    "\n",
    "def abs_value(number):\n",
    "    return abs(number)\n",
    "\n",
    "def sort_words(words: List[str]) -> List[str]:\n",
    "    words.sort(key = sort_length, reverse = True)\n",
    "    return words\n",
    "\n",
    "\n",
    "def sort_numbers(numbers: List[int]) -> List[int]:\n",
    "    numbers.sort(key = abs_value)\n",
    "    return numbers\n",
    "\n",
    "print(sort_words([\"cherry\", \"apple\", \"blueberry\", \"banana\", \"watermelon\", \"zucchini\", \"kiwi\", \"pear\"]))\n",
    "print(sort_numbers([1, -5, -3, 2, 4, 11, -19, 9, -2, 5, -6, 7, -4, 2, 6]))"
   ]
  },
  {
   "cell_type": "markdown",
   "metadata": {},
   "source": [
    "Instead of explicitly creating a new function. We can simply pass the lambda function through the key parameter. This results in us not having to create a new function. Instead it is created right in the parameter. A lambda function must take a single expression. to call this we use lambda followed by a variable. Then we use a colon to start the body. Example below.\n",
    "Challenge\n",
    "Implement the following functions:\n",
    "\n",
    "    sort_words(words: List[str]) -> List[str] - This function accepts a list of words and returns a new list of words sorted based on their length, in descending order. Use a lambda function to sort the words by their length.\n",
    "    sort_numbers(numbers: List[int]) -> List[int] - This function accepts a list of numbers and returns a new list of numbers sorted based on their absolute value, in ascending order. Use a lambda function to sort the numbers by their absolute value.\n"
   ]
  },
  {
   "cell_type": "code",
   "execution_count": null,
   "metadata": {},
   "outputs": [],
   "source": [
    "from typing import List\n",
    "\n",
    "\n",
    "def sort_words(words: List[str]) -> List[str]:\n",
    "    words.sort(key=lambda word: len(word), reverse = True)\n",
    "    return words\n",
    "\n",
    "\n",
    "def sort_numbers(numbers: List[int]) -> List[int]:\n",
    "    numbers.sort(key = lambda number: abs(number))\n",
    "    return numbers\n",
    "\n",
    "\n",
    "# do not modify below this line\n",
    "print(sort_words([\"cherry\", \"apple\", \"blueberry\", \"banana\", \"watermelon\", \"zucchini\", \"kiwi\", \"pear\"]))\n",
    "\n",
    "print(sort_numbers([1, -5, -3, 2, 4, 11, -19, 9, -2, 5, -6, 7, -4, 2, 6]))"
   ]
  },
  {
   "cell_type": "markdown",
   "metadata": {},
   "source": [
    "There is a function called the sorted which is similar to sort, except the sorted argument will return a new list instead of modifying the same one.\n",
    "\n",
    "Challenge\n",
    "\n",
    "Implement the following functions:\n",
    "\n",
    "    sort_words(words: List[str]) -> List[str] - This function accepts a list of words and returns a new list of words sorted in ascending order. Do not modify the original list.\n",
    "    sort_numbers(numbers: List[int]) -> List[int] - This function accepts a list of numbers and returns a new list of numbers sorted in descending order based on their absolute value. Do not modify the original list.\n"
   ]
  },
  {
   "cell_type": "code",
   "execution_count": null,
   "metadata": {},
   "outputs": [],
   "source": [
    "from typing import List\n",
    "\n",
    "\n",
    "def sort_words(words: List[str]) -> List[str]:\n",
    "    sorted_words = sorted(words)\n",
    "    return sorted_words\n",
    "\n",
    "\n",
    "def sort_numbers(numbers: List[int]) -> List[int]:\n",
    "    sorted_numbers = sorted(numbers, key=abs, reverse = True)\n",
    "    return sorted_numbers\n",
    "\n",
    "\n",
    "# do not modify below this line\n",
    "original_words = [\"cherry\", \"apple\", \"blueberry\", \"banana\", \"watermelon\", \"zucchini\", \"kiwi\", \"pear\"]\n",
    "\n",
    "print(original_words)\n",
    "print(sort_words(original_words))\n",
    "\n",
    "original_numbers = [1, -5, -3, 2, 4, 11, -19, 9, -2, 5, -6, 7, -4, 2, 6]\n",
    "\n",
    "print(original_numbers)\n",
    "print(sort_numbers(original_numbers))"
   ]
  }
 ],
 "metadata": {
  "kernelspec": {
   "display_name": "Python 3",
   "language": "python",
   "name": "python3"
  },
  "language_info": {
   "codemirror_mode": {
    "name": "ipython",
    "version": 3
   },
   "file_extension": ".py",
   "mimetype": "text/x-python",
   "name": "python",
   "nbconvert_exporter": "python",
   "pygments_lexer": "ipython3",
   "version": "3.13.1"
  }
 },
 "nbformat": 4,
 "nbformat_minor": 2
}
