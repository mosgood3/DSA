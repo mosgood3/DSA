{
 "cells": [
  {
   "cell_type": "markdown",
   "metadata": {},
   "source": [
    "Stack Push and Pop\n",
    "\n",
    "Python does not have a built-in stack data structure, but we can use a list for the same purposes.\n",
    "\n",
    "    append() is used to push an element onto the stack.\n",
    "\n",
    "stack = []\n",
    "stack.append(1)\n",
    "stack.append(2)\n",
    "\n",
    "    pop() is used to remove and return the top element from the stack.\n",
    "\n",
    "stack = [1, 2]\n",
    "\n",
    "top_element = stack.pop() # 2\n",
    "\n",
    "    [-1] can be used to access the top element of the stack without removing it. This assumes that the stack is not empty.\n",
    "\n",
    "stack = [1, 2]\n",
    "\n",
    "top_element = stack[-1] # 2\n",
    "\n",
    "    len() can be used to check if the stack is empty.\n",
    "\n",
    "stack = [1, 2]\n",
    "\n",
    "while len(stack) > 0:\n",
    "    print(stack.pop())\n",
    "\n",
    "Challenge\n",
    "\n",
    "Implement the following function using the stack operations described above:\n",
    "\n",
    "    reverse_list(arr: List[int]) -> List[int] that takes a list of integers and returns a new list of the integers in reverse order.\n",
    "\n",
    "Hint: Recall that elements from a stack are removed in reverse order.\n",
    "Time Complexity\n",
    "\n",
    "    append(): O(1)O(1)\n",
    "    pop(): O(1)O(1)\n",
    "    [-1]: O(1)O(1)\n",
    "    len(): O(1)O(1)\n"
   ]
  },
  {
   "cell_type": "code",
   "execution_count": null,
   "metadata": {},
   "outputs": [],
   "source": [
    "from typing import List\n",
    "\n",
    "\n",
    "def reverse_list(arr: List[int]) -> List[int]:\n",
    "    return arr[::-1]\n",
    "\n",
    "# do not modify below this line\n",
    "print(reverse_list([1, 2, 3]))\n",
    "print(reverse_list([3, 2, 1, 4, 6, 2]))\n",
    "print(reverse_list([1, 9, 7, 3, 2, 1, 4, 6, 2]))"
   ]
  },
  {
   "cell_type": "markdown",
   "metadata": {},
   "source": []
  }
 ],
 "metadata": {
  "kernelspec": {
   "display_name": "Python 3",
   "language": "python",
   "name": "python3"
  },
  "language_info": {
   "name": "python",
   "version": "3.13.1"
  }
 },
 "nbformat": 4,
 "nbformat_minor": 2
}
