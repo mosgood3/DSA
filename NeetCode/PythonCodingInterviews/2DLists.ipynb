{
 "cells": [
  {
   "cell_type": "markdown",
   "metadata": {},
   "source": [
    "Multi-Dimensional List\n",
    "\n",
    "We briefly mentioned nested lists earlier when we covered list cloning. A nested list is a list that contains other lists. This allows us to create multi-dimensional lists, which are lists of lists.\n",
    "\n",
    "nested_list = [[1, 2, 3], [4, 5, 6], [7, 8, 9]]\n",
    "\n",
    "This is a 2D list, where each element is a list of integers. Thus, nested_list[0] and nested_list[1] are lists themselves, and not integers.\n",
    "\n",
    "if we want to access elements in a list, we can do so by chaining the indices:\n",
    "\n",
    "print(nested_list[0][0])  # 1\n",
    "\n",
    "print(nested_list[2][2])  # 9\n",
    "\n",
    "print(nested_list[1][2])  # 6\n",
    "\n",
    "The lists don't all have to be the same length:\n",
    "\n",
    "nested_list = [[1], [2, 3], [4, 5, 6]]\n",
    "\n",
    "for sublist in nested_list:\n",
    "    for element in sublist:\n",
    "        print(element)\n",
    "\n",
    "The above code declares a 2D list with varying lengths for each sublist. We can iterate over the elements in each list using nested loops. The code will output the numbers 1 through 6.\n",
    "Challenge\n",
    "\n",
    "    find_max_in_each_list(nested_arr: List[int]) -> List[int] which takes a 2D list of integers and returns a list of the maximum element in each sublist. The returned list should contain the maximum element from each sublist in the order they appear in the input list.\n",
    "        Example: find_max_in_each_list([[1, 2], [3, 4, 2]]) should return [2, 4].\n",
    "        You may assume that each sublist will contain at least one element.\n"
   ]
  },
  {
   "cell_type": "code",
   "execution_count": 1,
   "metadata": {},
   "outputs": [
    {
     "name": "stdout",
     "output_type": "stream",
     "text": [
      "[2, 4]\n",
      "[3, 6, 9]\n",
      "[8, 9, 10, 11]\n"
     ]
    }
   ],
   "source": [
    "from typing import List\n",
    "\n",
    "\n",
    "def find_max_in_each_list(nested_arr: List[int]) -> List[int]:\n",
    "    return [max(element) for element in nested_arr]\n",
    "\n",
    "\n",
    "# do not modify below this line\n",
    "print(find_max_in_each_list([[1, 2], [3, 4, 2]]))\n",
    "print(find_max_in_each_list([[1, 2, 3], [4, 5, 6], [7, 8, 9]]))\n",
    "print(find_max_in_each_list([[5, 6, 2, 8], [9], [9, 10], [11, 10, 11]]))"
   ]
  },
  {
   "cell_type": "markdown",
   "metadata": {},
   "source": [
    "2D Grid\n",
    "\n",
    "It's common to represent a 2D grid as a list of lists in Python. For example, a 2x3 grid can be represented as:\n",
    "\n",
    "grid = [\n",
    "    [0, 0, 0],\n",
    "    [0, 0, 0]\n",
    "]\n",
    "\n",
    "rows = len(grid)    # 2\n",
    "cols = len(grid[0]) # 3\n",
    "\n",
    "In this example, the variable grid is a list of lists. The variable rows is the number of rows in the grid, and the variable cols is the number of columns in the grid. We assume that each sub-list in the grid has the same length, which is usually the case for a 2D grid in algorithm problems.\n",
    "\n",
    "Challenge\n",
    "\n",
    "Implement the following function using the grid operations described above:\n",
    "\n",
    "    in_bounds(grid: List[int], r: int, c: int) -> bool that takes a 2D grid grid and two integers r and c, where r is the index of a row and c is the index of a column. It should return True if the cell at row r and column c is within the bounds of the grid, and False otherwise.\n",
    "        Example: in_bounds([[1, 2], [3, 4]], 2, 1) should return False, there is no row at index 2.\n"
   ]
  },
  {
   "cell_type": "code",
   "execution_count": null,
   "metadata": {},
   "outputs": [],
   "source": [
    "from typing import List\n",
    "\n",
    "\n",
    "def in_bounds(grid: List[List[int]], r: int, c: int) -> bool:\n",
    "    return 0 <= r < len(grid) and 0 <= c < len(grid[0])\n",
    "\n",
    "\n",
    "# do not modify below this line\n",
    "print(in_bounds([[1, 2, 3], [4, 5, 6], [7, 8, 9]], 0, 0))\n",
    "print(in_bounds([[1, 2, 3], [4, 5, 6], [7, 8, 9]], 2, 2))\n",
    "print(in_bounds([[1, 2, 3], [4, 5, 6], [7, 8, 9]], 1, 1))\n",
    "print(in_bounds([[1, 2, 3], [4, 5, 6], [7, 8, 9]], 4, 3))\n",
    "print(in_bounds([[1, 2, 3], [4, 5, 6], [7, 8, 9]], 3, 4))\n",
    "print(in_bounds([[1, 2, 3], [4, 5, 6], [7, 8, 9]], 3, -1))\n",
    "print(in_bounds([[1, 2, 3], [4, 5, 6], [7, 8, 9]], -1, 3))"
   ]
  },
  {
   "cell_type": "markdown",
   "metadata": {},
   "source": [
    "Nested List Comprehension\n",
    "\n",
    "It's common to need to initialize a 2-D list of a given size, especially a 2-D grid. Suppose we wanted to declare a 2x3 grid of zeros. You might be tempted to try this:\n",
    "\n",
    "grid = [[0] * 3] * 2\n",
    "\n",
    "print(grid) # [[0, 0, 0], [0, 0, 0]]\n",
    "\n",
    "At first it seems correct. We create a list of size 3 with [0] * 3. We add it to a list, and multiply the result by 2. However, this code will not work as expected. The issue is that the inner list is a reference to the same list object. This means that if we change one of the inner lists, all the inner lists will change as shown below.\n",
    "grid = [[0] * 3] * 2\n",
    "grid[0][0] = 1\n",
    "print(grid) # [[1, 0, 0], [1, 0, 0]]\n",
    "\n",
    "a better way to do this would be using the code below:\n",
    "\n",
    "grid = [[0 for i in range(3)] for j in range(2)]\n",
    "grid[0][0] = 1\n",
    "print(grid) # [[1, 0, 0], [0, 0, 0]]\n",
    "\n",
    "An even better way to do this would be the code below:\n",
    "\n",
    "grid = [[0] * 3 for _ in range(2)] \n",
    "\n",
    "The underscore is a throwaway variable indicating that we are not using it\n",
    "Challenge\n",
    "\n",
    "Implement the following function using the grid operations described above:\n",
    "\n",
    "    create_grid(rows: int, cols: int, value: int) -> List[List[int]] that takes three integers rows, cols, and value. It returns a 2-D list of size rows x cols where each element is equal to value.\n",
    "\n",
    "Time Complexity\n",
    "\n",
    "To initialze a 2-D grid of size n x m with a given value, the time complexity is O(n∗m)O(n∗m)."
   ]
  },
  {
   "cell_type": "code",
   "execution_count": null,
   "metadata": {},
   "outputs": [],
   "source": [
    "from typing import List\n",
    "\n",
    "\n",
    "def create_grid(rows: int, cols: int, value: int) -> List[List[int]]:\n",
    "    return [[value] * cols for _ in range(rows)]\n",
    "\n",
    "\n",
    "# do not modify below this line\n",
    "print(create_grid(2, 3, 0))\n",
    "print(create_grid(3, 2, 1))\n",
    "print(create_grid(4, 4, 4))\n",
    "print(create_grid(1, 1, 5))\n",
    "print(create_grid(1, 5, 5))"
   ]
  }
 ],
 "metadata": {
  "kernelspec": {
   "display_name": "Python 3",
   "language": "python",
   "name": "python3"
  },
  "language_info": {
   "codemirror_mode": {
    "name": "ipython",
    "version": 3
   },
   "file_extension": ".py",
   "mimetype": "text/x-python",
   "name": "python",
   "nbconvert_exporter": "python",
   "pygments_lexer": "ipython3",
   "version": "3.13.1"
  }
 },
 "nbformat": 4,
 "nbformat_minor": 2
}
