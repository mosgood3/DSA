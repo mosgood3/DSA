{
 "cells": [
  {
   "cell_type": "markdown",
   "metadata": {},
   "source": [
    "The biggest advantage of python is its simplicity and the shortcuts allowing for clearer code.\n",
    "Unpacking:\n",
    "point1 = [0, 0]\n",
    "point2 = [2, 4]\n",
    "\n",
    "x1, y1 = point1 # x1 = 0, y1 = 0\n",
    "x2, y2 = point2 # x2 = 2, y2 = 4\n",
    "\n",
    "slope = (y2 - y1) / (x2 - x1)\n",
    "\n",
    "print(slope) # Output: 2.0\n",
    "\n",
    "Always make sure the unpaked variables are the correct size of the packed\n",
    "Challenge\n",
    "\n",
    "Implement the following functions using unpacking:\n",
    "\n",
    "    sum_3_integers(triplet: List[int]) -> int that takes a list of 3 integers and returns the sum of the integers.\n",
    "    compute_volume(box_dimensions: Tuple[int, int, int]) -> int that takes a list of 3 integers representing [width, height, depth] of a box and returns the volume of it.\n",
    "\n"
   ]
  },
  {
   "cell_type": "code",
   "execution_count": null,
   "metadata": {},
   "outputs": [],
   "source": [
    "from typing import List, Tuple\n",
    "\n",
    "\n",
    "def sum_3_integers(triplet: List[int]) -> int:\n",
    "    x,y,z = triplet\n",
    "    return sum(triplet)\n",
    "\n",
    "\n",
    "def compute_volume(box_dimensions: Tuple[int, int, int]) -> int:\n",
    "    x,y,z = box_dimensions\n",
    "    return (x * y *z)\n",
    "  \n",
    "\n",
    "# do not modify below this line\n",
    "print(sum_3_integers([1, 2, 3]))\n",
    "print(sum_3_integers([4, 6, 2]))\n",
    "\n",
    "print(compute_volume((1, 2, 3)))\n",
    "print(compute_volume((3, 2, 1)))\n",
    "print(compute_volume((3, 9, 7)))"
   ]
  },
  {
   "cell_type": "markdown",
   "metadata": {},
   "source": [
    "Loop unpacking,we can also use unpakcing in loop to iterate over a list of lists. this is useful when we know the size of the inner list.\n",
    "Challenge\n",
    "\n",
    "Implement the following function using unpacking:\n",
    "\n",
    "    best_student(scores: List[Tuple[str, int]]) -> str: that takes a list of tuples. Each tuple represents the (name, score) of a student. Find the student with the highest score and return their name.\n",
    "\n",
    "You may assume that a score will never be less than 0 and that only one student will have the highest score."
   ]
  },
  {
   "cell_type": "code",
   "execution_count": null,
   "metadata": {},
   "outputs": [],
   "source": [
    "from typing import List, Tuple\n",
    "\n",
    "\n",
    "def best_student(scores: List[Tuple[str, int]]) -> str:\n",
    "    best_score, student_name = 0, \"\"\n",
    "    for name, score in scores:\n",
    "        if score > best_score:\n",
    "            student_name , best_score = name , score\n",
    "    return student_name\n",
    "\n",
    "\n",
    "\n",
    "# do not modify below this line\n",
    "print(best_student([(\"Alice\", 90), (\"Bob\", 80), (\"Charlie\", 70)]))\n",
    "print(best_student([(\"Alice\", 90), (\"Bob\", 80), (\"Charlie\", 100)]))\n",
    "print(best_student([(\"Alice\", 90), (\"Bob\", 100), (\"Charlie\", 70)]))\n",
    "print(best_student([(\"Alice\", 90), (\"Bob\", 90), (\"Charlie\", 80), (\"David\", 100)]))"
   ]
  },
  {
   "cell_type": "markdown",
   "metadata": {},
   "source": [
    "Supose we wanted to loop over an array and we needed to access both the index and the element at the index. This is what the enumerate function is for.\n",
    "Old Way:\n",
    "nums = [2, 7, 9, 2]\n",
    "\n",
    "for i in range(len(nums)):\n",
    "    n = nums[i]\n",
    "    print(i, n)\n",
    "\n",
    "New Way:\n",
    "nums = [2, 7, 9, 2]\n",
    "\n",
    "for i, n in enumerate(nums):\n",
    "    print(i, n)\n",
    "\n",
    "Challenge\n",
    "\n",
    "Implement the following functions using enumerate():\n",
    "\n",
    "    get_index_of_seven(nums: List[int]) -> int that returns the index of the first occurrence of the number 7 in the list nums, or -1 if 7 is not found.\n",
    "    get_dist_between_sevens(nums: List[int]) -> int that returns the distance between the first and second occurrence of the number 7 in the list nums.\n",
    "        You may assume that there will always be at least two occurrences of the number 7 in the list.\n"
   ]
  },
  {
   "cell_type": "code",
   "execution_count": 1,
   "metadata": {},
   "outputs": [
    {
     "name": "stdout",
     "output_type": "stream",
     "text": [
      "6\n",
      "-1\n",
      "2\n",
      "4\n",
      "1\n",
      "5\n"
     ]
    }
   ],
   "source": [
    "from typing import List\n",
    "\n",
    "\n",
    "def get_index_of_seven(nums: List[int]) -> int:\n",
    "    for i,num in enumerate(nums):\n",
    "        if num == 7:\n",
    "            return i\n",
    "    return - 1\n",
    "\n",
    "\n",
    "def get_dist_between_sevens(nums: List[int]) -> int:\n",
    "    first_seven_index = -1\n",
    "    for i, num in enumerate(nums):\n",
    "        if num == 7:\n",
    "            if first_seven_index == -1:\n",
    "                first_seven_index = i\n",
    "\n",
    "            else: \n",
    "                return i -  first_seven_index\n",
    "\n",
    "\n",
    "# do not modify below this line\n",
    "print(get_index_of_seven([1, 2, 3, 4, 5, 6, 7, 8, 9]))\n",
    "print(get_index_of_seven([1, 2, 3, 4, 5, 6, 8, 9]))\n",
    "print(get_index_of_seven([2, 4, 7, 5, 7, 8, 4, 2]))\n",
    "\n",
    "print(get_dist_between_sevens([1, 2, 7, 4, 5, 6, 7, 8, 9]))\n",
    "print(get_dist_between_sevens([2, 7, 7, 7, 8]))\n",
    "print(get_dist_between_sevens([7, 4, 8, 4, 2, 7]))\n"
   ]
  },
  {
   "cell_type": "markdown",
   "metadata": {},
   "source": [
    "We can iterate over two lists and return one list as tuples by using the zip keyword. The zip keyword. This will match indexes from each list.\n",
    "Challenge\n",
    "\n",
    "Implement the following function using zip():\n",
    "\n",
    "    group_names_and_scores(names: List[str], scores: List[int]) -> Dict[str, int] that takes two lists, names and scores, and returns a dictionary where the key is names[i] and it maps to scores[i] as the value.\n",
    "\n",
    "You may assume the inputs names and scores will always be the same length.\n",
    "Time and Space Complexity\n",
    "\n",
    "    Time complexity: O(1)O(1)\n",
    "        The zip() function returns an iterator at the beginning of the input lists, so it doesn't traverse the entire lists.\n",
    "    Space complexity: O(1)O(1)\n",
    "        The zip() function returns an iterator so it doesn't actually create a new list of tuples in memory.\n"
   ]
  },
  {
   "cell_type": "code",
   "execution_count": null,
   "metadata": {},
   "outputs": [],
   "source": [
    "from typing import List, Dict\n",
    "\n",
    "\n",
    "def group_names_and_scores(names: List[str], scores: List[int]) -> Dict[str, int]:\n",
    "    my_dict = {}\n",
    "    for name, score in zip(names, scores):\n",
    "        my_dict[name] = score\n",
    "    return my_dict\n",
    "\n",
    "\n",
    "# do not modify below this line\n",
    "print(group_names_and_scores([\"Alice\", \"Bob\", \"Charlie\"], [90, 80, 70]))\n",
    "print(group_names_and_scores([\"Jane\", \"Carol\", \"Charlie\"], [25, 100, 60]))\n",
    "print(group_names_and_scores([\"Doug\", \"Bob\", \"Tommy\"], [80, 90, 100]))\n"
   ]
  },
  {
   "cell_type": "markdown",
   "metadata": {},
   "source": [
    "Python is sometimes considered psuedo code due to being able to shortcut. in the example we can write:\n",
    "if 10 < x < 20: here we do not need to use the and operator.\n",
    "Challenge\n",
    "\n",
    "Implement the following function:\n",
    "\n",
    "    is_arr_valid(names: List[str], max_length: int) -> bool. It should return True if the length of the names list is greater than 0 and less than or equal to the parameter max_length. Otherwise it should return False.\n"
   ]
  },
  {
   "cell_type": "code",
   "execution_count": null,
   "metadata": {},
   "outputs": [],
   "source": [
    "from typing import List\n",
    "\n",
    "\n",
    "def is_arr_valid(names: List[str], max_length: int) -> bool:\n",
    "        if 0 < len(names) <= max_length:\n",
    "            return True\n",
    "        return False"
   ]
  },
  {
   "cell_type": "markdown",
   "metadata": {},
   "source": [
    "Min Max Shortcuts:\n",
    "transactions = -2\n",
    "if transactions < 0:\n",
    "    transactions = 0\n",
    "\n",
    "Better way to rewrite this below\n",
    "\n",
    "transactions = max(0, transactions)\n",
    "\n",
    "Challenge\n",
    "\n",
    "Implement the following functions:\n",
    "\n",
    "    disallow_negatives(num: int) -> int that takes an integer and returns the integer if it is greater than or equal to 0. Otherwise, it should return 0.\n",
    "\n",
    "    max_difference(nums: List[int]) -> int that takes a list of integers and returns the maximum difference between any two adjacent elements in the list, by subtracting the element on the left from the element on the right. In other words, it should return the maximum value of nums[i] - nums[i - 1] for all valid indices i.\n",
    "        You may assume the output will always be a positive integer.\n",
    "        Example: Given the list [10, 1, 3, 7], the maximum adjacent difference is 7 - 3 = 4.\n",
    "        You may assume all input lists will have at least two elements.\n"
   ]
  },
  {
   "cell_type": "code",
   "execution_count": null,
   "metadata": {},
   "outputs": [],
   "source": [
    "from typing import List\n",
    "\n",
    "\n",
    "def disallow_negatives(num: int) -> int:\n",
    "    nonNegative = max(0,num)\n",
    "\n",
    "    return nonNegative\n",
    "\n",
    "\n",
    "def max_difference(nums: List[int]) -> int:\n",
    "    output = 0\n",
    "\n",
    "    for i in range(len(nums) - 1):\n",
    "        output = max(output, nums[i + 1] - nums[i])\n",
    "\n",
    "    return output  "
   ]
  }
 ],
 "metadata": {
  "kernelspec": {
   "display_name": "Python 3",
   "language": "python",
   "name": "python3"
  },
  "language_info": {
   "codemirror_mode": {
    "name": "ipython",
    "version": 3
   },
   "file_extension": ".py",
   "mimetype": "text/x-python",
   "name": "python",
   "nbconvert_exporter": "python",
   "pygments_lexer": "ipython3",
   "version": "3.13.1"
  }
 },
 "nbformat": 4,
 "nbformat_minor": 2
}
