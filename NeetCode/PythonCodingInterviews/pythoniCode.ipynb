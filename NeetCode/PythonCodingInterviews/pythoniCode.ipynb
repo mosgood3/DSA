{
 "cells": [
  {
   "cell_type": "markdown",
   "metadata": {},
   "source": [
    "The biggest advantage of python is its simplicity and the shortcuts allowing for clearer code.\n",
    "Unpacking:\n",
    "point1 = [0, 0]\n",
    "point2 = [2, 4]\n",
    "\n",
    "x1, y1 = point1 # x1 = 0, y1 = 0\n",
    "x2, y2 = point2 # x2 = 2, y2 = 4\n",
    "\n",
    "slope = (y2 - y1) / (x2 - x1)\n",
    "\n",
    "print(slope) # Output: 2.0\n",
    "\n",
    "Always make sure the unpaked variables are the correct size of the packed\n",
    "Challenge\n",
    "\n",
    "Implement the following functions using unpacking:\n",
    "\n",
    "    sum_3_integers(triplet: List[int]) -> int that takes a list of 3 integers and returns the sum of the integers.\n",
    "    compute_volume(box_dimensions: Tuple[int, int, int]) -> int that takes a list of 3 integers representing [width, height, depth] of a box and returns the volume of it.\n",
    "\n"
   ]
  },
  {
   "cell_type": "code",
   "execution_count": null,
   "metadata": {},
   "outputs": [],
   "source": [
    "from typing import List, Tuple\n",
    "\n",
    "\n",
    "def sum_3_integers(triplet: List[int]) -> int:\n",
    "    x,y,z = triplet\n",
    "    return sum(triplet)\n",
    "\n",
    "\n",
    "def compute_volume(box_dimensions: Tuple[int, int, int]) -> int:\n",
    "    x,y,z = box_dimensions\n",
    "    return (x * y *z)\n",
    "  \n",
    "\n",
    "# do not modify below this line\n",
    "print(sum_3_integers([1, 2, 3]))\n",
    "print(sum_3_integers([4, 6, 2]))\n",
    "\n",
    "print(compute_volume((1, 2, 3)))\n",
    "print(compute_volume((3, 2, 1)))\n",
    "print(compute_volume((3, 9, 7)))"
   ]
  }
 ],
 "metadata": {
  "kernelspec": {
   "display_name": "Python 3",
   "language": "python",
   "name": "python3"
  },
  "language_info": {
   "name": "python",
   "version": "3.13.1"
  }
 },
 "nbformat": 4,
 "nbformat_minor": 2
}
