{
 "cells": [
  {
   "cell_type": "markdown",
   "metadata": {},
   "source": [
    "The biggest advantage of python is its simplicity and the shortcuts allowing for clearer code.\n",
    "Unpacking:\n",
    "point1 = [0, 0]\n",
    "point2 = [2, 4]\n",
    "\n",
    "x1, y1 = point1 # x1 = 0, y1 = 0\n",
    "x2, y2 = point2 # x2 = 2, y2 = 4\n",
    "\n",
    "slope = (y2 - y1) / (x2 - x1)\n",
    "\n",
    "print(slope) # Output: 2.0\n",
    "\n",
    "Always make sure the unpaked variables are the correct size of the packed\n",
    "Challenge\n",
    "\n",
    "Implement the following functions using unpacking:\n",
    "\n",
    "    sum_3_integers(triplet: List[int]) -> int that takes a list of 3 integers and returns the sum of the integers.\n",
    "    compute_volume(box_dimensions: Tuple[int, int, int]) -> int that takes a list of 3 integers representing [width, height, depth] of a box and returns the volume of it.\n",
    "\n"
   ]
  },
  {
   "cell_type": "code",
   "execution_count": null,
   "metadata": {},
   "outputs": [],
   "source": [
    "from typing import List, Tuple\n",
    "\n",
    "\n",
    "def sum_3_integers(triplet: List[int]) -> int:\n",
    "    x,y,z = triplet\n",
    "    return sum(triplet)\n",
    "\n",
    "\n",
    "def compute_volume(box_dimensions: Tuple[int, int, int]) -> int:\n",
    "    x,y,z = box_dimensions\n",
    "    return (x * y *z)\n",
    "  \n",
    "\n",
    "# do not modify below this line\n",
    "print(sum_3_integers([1, 2, 3]))\n",
    "print(sum_3_integers([4, 6, 2]))\n",
    "\n",
    "print(compute_volume((1, 2, 3)))\n",
    "print(compute_volume((3, 2, 1)))\n",
    "print(compute_volume((3, 9, 7)))"
   ]
  },
  {
   "cell_type": "markdown",
   "metadata": {},
   "source": [
    "Loop unpacking,we can also use unpakcing in loop to iterate over a list of lists. this is useful when we know the size of the inner list.\n",
    "Challenge\n",
    "\n",
    "Implement the following function using unpacking:\n",
    "\n",
    "    best_student(scores: List[Tuple[str, int]]) -> str: that takes a list of tuples. Each tuple represents the (name, score) of a student. Find the student with the highest score and return their name.\n",
    "\n",
    "You may assume that a score will never be less than 0 and that only one student will have the highest score."
   ]
  },
  {
   "cell_type": "code",
   "execution_count": null,
   "metadata": {},
   "outputs": [],
   "source": [
    "from typing import List, Tuple\n",
    "\n",
    "\n",
    "def best_student(scores: List[Tuple[str, int]]) -> str:\n",
    "    best_score, student_name = 0, \"\"\n",
    "    for name, score in scores:\n",
    "        if score > best_score:\n",
    "            student_name , best_score = name , score\n",
    "    return student_name\n",
    "\n",
    "\n",
    "\n",
    "# do not modify below this line\n",
    "print(best_student([(\"Alice\", 90), (\"Bob\", 80), (\"Charlie\", 70)]))\n",
    "print(best_student([(\"Alice\", 90), (\"Bob\", 80), (\"Charlie\", 100)]))\n",
    "print(best_student([(\"Alice\", 90), (\"Bob\", 100), (\"Charlie\", 70)]))\n",
    "print(best_student([(\"Alice\", 90), (\"Bob\", 90), (\"Charlie\", 80), (\"David\", 100)]))"
   ]
  },
  {
   "cell_type": "markdown",
   "metadata": {},
   "source": [
    "Supose we wanted to loop over an array and we needed to access both the index and the element at the index. This is what the enumerate function is for.\n",
    "Old Way:\n",
    "nums = [2, 7, 9, 2]\n",
    "\n",
    "for i in range(len(nums)):\n",
    "    n = nums[i]\n",
    "    print(i, n)\n",
    "\n",
    "New Way:\n",
    "nums = [2, 7, 9, 2]\n",
    "\n",
    "for i, n in enumerate(nums):\n",
    "    print(i, n)"
   ]
  }
 ],
 "metadata": {
  "kernelspec": {
   "display_name": "Python 3",
   "language": "python",
   "name": "python3"
  },
  "language_info": {
   "name": "python",
   "version": "3.13.1"
  }
 },
 "nbformat": 4,
 "nbformat_minor": 2
}
