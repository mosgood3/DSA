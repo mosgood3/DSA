{
 "cells": [
  {
   "cell_type": "code",
   "execution_count": 9,
   "metadata": {},
   "outputs": [
    {
     "name": "stdout",
     "output_type": "stream",
     "text": [
      "         Date      Start        End\n",
      "0  2025-01-01 2025-01-03 2025-01-03\n",
      "1  2025-01-02 2025-01-04 2025-01-06\n",
      "2  2025-01-03 2025-01-07 2025-01-07\n",
      "3  2025-01-06 2025-01-08 2025-01-08\n",
      "4  2025-01-07 2025-01-09 2025-01-09\n",
      "5  2025-01-08 2025-01-10 2025-01-10\n",
      "6  2025-01-09 2025-01-11 2025-01-13\n",
      "7  2025-01-10 2025-01-14 2025-01-14\n",
      "8  2025-01-13 2025-01-15 2025-01-15\n",
      "9  2025-01-14 2025-01-16 2025-01-16\n",
      "10 2025-01-15 2025-01-17 2025-01-17\n",
      "11 2025-01-16 2025-01-18 2025-01-20\n",
      "12 2025-01-17 2025-01-21 2025-01-21\n",
      "13 2025-01-20 2025-01-22 2025-01-22\n",
      "14 2025-01-21 2025-01-23 2025-01-23\n",
      "15 2025-01-22 2025-01-24 2025-01-24\n",
      "16 2025-01-23 2025-01-25 2025-01-27\n",
      "17 2025-01-24 2025-01-28 2025-01-28\n",
      "18 2025-01-27 2025-01-29 2025-01-29\n",
      "19 2025-01-28 2025-01-30 2025-01-30\n",
      "20 2025-01-29 2025-01-31 2025-01-31\n",
      "21 2025-01-30 2025-02-01 2025-02-03\n",
      "22 2025-01-31 2025-02-04 2025-02-04\n"
     ]
    }
   ],
   "source": [
    "from datetime import datetime, timedelta\n",
    "from typing import List\n",
    "import pandas as pd\n",
    "\n",
    "def generate_calendar(StartDate: str, EndDate: str) -> List:\n",
    "    calendar_dates = pd.date_range(start=StartDate, end=EndDate, freq='B')\n",
    "    schedule = []\n",
    "\n",
    "    for date in calendar_dates:\n",
    "        if date.weekday() == 4:\n",
    "            start = date + timedelta(days=4)\n",
    "        else:\n",
    "            start = date + timedelta(days=2)\n",
    "\n",
    "        if date.weekday() == 3 or date.weekday() == 4:\n",
    "            end = date + timedelta(days=4)\n",
    "        else:\n",
    "            end = start\n",
    "        \n",
    "        schedule.append((date, start, end))\n",
    "\n",
    "    return schedule\n",
    "\n",
    "def create_df(StartDate: str, EndDate: str) -> pd.DataFrame:\n",
    "    schedule = generate_calendar(StartDate, EndDate)\n",
    "    df = pd.DataFrame(schedule, columns=['Date', 'Start', 'End'])\n",
    "    return df\n",
    "\n",
    "df = create_df(\"2025-01-01\", \"2025-01-31\")\n",
    "print(df)\n",
    "\n"
   ]
  },
  {
   "cell_type": "code",
   "execution_count": null,
   "metadata": {},
   "outputs": [],
   "source": []
  }
 ],
 "metadata": {
  "kernelspec": {
   "display_name": "Python 3",
   "language": "python",
   "name": "python3"
  },
  "language_info": {
   "codemirror_mode": {
    "name": "ipython",
    "version": 3
   },
   "file_extension": ".py",
   "mimetype": "text/x-python",
   "name": "python",
   "nbconvert_exporter": "python",
   "pygments_lexer": "ipython3",
   "version": "3.12.8"
  }
 },
 "nbformat": 4,
 "nbformat_minor": 2
}
